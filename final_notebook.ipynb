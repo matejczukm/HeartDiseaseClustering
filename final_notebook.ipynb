{
 "cells": [
  {
   "cell_type": "markdown",
   "id": "b3e85f8b",
   "metadata": {},
   "source": [
    "# Initial look at the dataset"
   ]
  },
  {
   "cell_type": "markdown",
   "id": "7f079641",
   "metadata": {},
   "source": [
    "Data consists of 11 columns that hold information about 303 patients diagnosed with heart diseases in V.A. Medical Center in Long Beach, CA. The columns are:\n",
    "\n",
    "1. age - patient's age\n",
    "2. sex - patient's sex (likely 1 = male, 0 = female; not important for the task)\n",
    "3. cp - chest pain type (1-4, meaning unclear)\n",
    "4. trestbps - resting blood pressure (in mm Hg on admission to the hospital)\n",
    "5. chol - serum cholesterol in mg/dl\n",
    "6. fbs - fasting blood sugar > 120 mg/dl (1 = true; 0 = false)\n",
    "7. restecg - resting electrocardiographic results (0-2, meaning unclear)\n",
    "8. thalach - maximum heart rate achieved in bpm\n",
    "9. exang - exercise induced angina (1 = yes; 0 = no)\n",
    "10. oldpeak - ST depression induced by exercise relative to rest in mV\n",
    "11. slope - the slope of the peak exercise ST segment (possibly 1 = upsloping, 2 = downsloping, 3 = horizontal)"
   ]
  },
  {
   "cell_type": "code",
   "execution_count": 1,
   "id": "2e2a0ce0",
   "metadata": {},
   "outputs": [],
   "source": [
    "import pandas as pd"
   ]
  },
  {
   "cell_type": "code",
   "execution_count": 2,
   "id": "b7d7e8a7",
   "metadata": {
    "scrolled": false
   },
   "outputs": [
    {
     "data": {
      "text/html": [
       "<div>\n",
       "<style scoped>\n",
       "    .dataframe tbody tr th:only-of-type {\n",
       "        vertical-align: middle;\n",
       "    }\n",
       "\n",
       "    .dataframe tbody tr th {\n",
       "        vertical-align: top;\n",
       "    }\n",
       "\n",
       "    .dataframe thead th {\n",
       "        text-align: right;\n",
       "    }\n",
       "</style>\n",
       "<table border=\"1\" class=\"dataframe\">\n",
       "  <thead>\n",
       "    <tr style=\"text-align: right;\">\n",
       "      <th></th>\n",
       "      <th>id</th>\n",
       "      <th>age</th>\n",
       "      <th>sex</th>\n",
       "      <th>cp</th>\n",
       "      <th>trestbps</th>\n",
       "      <th>chol</th>\n",
       "      <th>fbs</th>\n",
       "      <th>restecg</th>\n",
       "      <th>thalach</th>\n",
       "      <th>exang</th>\n",
       "      <th>oldpeak</th>\n",
       "      <th>slope</th>\n",
       "    </tr>\n",
       "  </thead>\n",
       "  <tbody>\n",
       "    <tr>\n",
       "      <th>0</th>\n",
       "      <td>1</td>\n",
       "      <td>63</td>\n",
       "      <td>1</td>\n",
       "      <td>1</td>\n",
       "      <td>145</td>\n",
       "      <td>233</td>\n",
       "      <td>1</td>\n",
       "      <td>2</td>\n",
       "      <td>150</td>\n",
       "      <td>0</td>\n",
       "      <td>2.3</td>\n",
       "      <td>3</td>\n",
       "    </tr>\n",
       "    <tr>\n",
       "      <th>1</th>\n",
       "      <td>2</td>\n",
       "      <td>67</td>\n",
       "      <td>1</td>\n",
       "      <td>4</td>\n",
       "      <td>160</td>\n",
       "      <td>286</td>\n",
       "      <td>0</td>\n",
       "      <td>2</td>\n",
       "      <td>108</td>\n",
       "      <td>1</td>\n",
       "      <td>1.5</td>\n",
       "      <td>2</td>\n",
       "    </tr>\n",
       "    <tr>\n",
       "      <th>2</th>\n",
       "      <td>3</td>\n",
       "      <td>67</td>\n",
       "      <td>1</td>\n",
       "      <td>4</td>\n",
       "      <td>120</td>\n",
       "      <td>229</td>\n",
       "      <td>0</td>\n",
       "      <td>2</td>\n",
       "      <td>129</td>\n",
       "      <td>1</td>\n",
       "      <td>2.6</td>\n",
       "      <td>2</td>\n",
       "    </tr>\n",
       "    <tr>\n",
       "      <th>3</th>\n",
       "      <td>4</td>\n",
       "      <td>37</td>\n",
       "      <td>1</td>\n",
       "      <td>3</td>\n",
       "      <td>130</td>\n",
       "      <td>250</td>\n",
       "      <td>0</td>\n",
       "      <td>0</td>\n",
       "      <td>187</td>\n",
       "      <td>0</td>\n",
       "      <td>3.5</td>\n",
       "      <td>3</td>\n",
       "    </tr>\n",
       "    <tr>\n",
       "      <th>4</th>\n",
       "      <td>5</td>\n",
       "      <td>41</td>\n",
       "      <td>0</td>\n",
       "      <td>2</td>\n",
       "      <td>130</td>\n",
       "      <td>204</td>\n",
       "      <td>0</td>\n",
       "      <td>2</td>\n",
       "      <td>172</td>\n",
       "      <td>0</td>\n",
       "      <td>1.4</td>\n",
       "      <td>1</td>\n",
       "    </tr>\n",
       "  </tbody>\n",
       "</table>\n",
       "</div>"
      ],
      "text/plain": [
       "   id  age  sex  cp  trestbps  chol  fbs  restecg  thalach  exang  oldpeak  \\\n",
       "0   1   63    1   1       145   233    1        2      150      0      2.3   \n",
       "1   2   67    1   4       160   286    0        2      108      1      1.5   \n",
       "2   3   67    1   4       120   229    0        2      129      1      2.6   \n",
       "3   4   37    1   3       130   250    0        0      187      0      3.5   \n",
       "4   5   41    0   2       130   204    0        2      172      0      1.4   \n",
       "\n",
       "   slope  \n",
       "0      3  \n",
       "1      2  \n",
       "2      2  \n",
       "3      3  \n",
       "4      1  "
      ]
     },
     "execution_count": 2,
     "metadata": {},
     "output_type": "execute_result"
    }
   ],
   "source": [
    "df = pd.read_csv('heart_disease_patients.csv')\n",
    "df.head()"
   ]
  },
  {
   "cell_type": "code",
   "execution_count": 3,
   "id": "7e3efb08",
   "metadata": {},
   "outputs": [
    {
     "data": {
      "text/html": [
       "<div>\n",
       "<style scoped>\n",
       "    .dataframe tbody tr th:only-of-type {\n",
       "        vertical-align: middle;\n",
       "    }\n",
       "\n",
       "    .dataframe tbody tr th {\n",
       "        vertical-align: top;\n",
       "    }\n",
       "\n",
       "    .dataframe thead th {\n",
       "        text-align: right;\n",
       "    }\n",
       "</style>\n",
       "<table border=\"1\" class=\"dataframe\">\n",
       "  <thead>\n",
       "    <tr style=\"text-align: right;\">\n",
       "      <th></th>\n",
       "      <th>age</th>\n",
       "      <th>sex</th>\n",
       "      <th>cp</th>\n",
       "      <th>trestbps</th>\n",
       "      <th>chol</th>\n",
       "      <th>fbs</th>\n",
       "      <th>restecg</th>\n",
       "      <th>thalach</th>\n",
       "      <th>exang</th>\n",
       "      <th>oldpeak</th>\n",
       "      <th>slope</th>\n",
       "    </tr>\n",
       "  </thead>\n",
       "  <tbody>\n",
       "    <tr>\n",
       "      <th>0</th>\n",
       "      <td>63</td>\n",
       "      <td>1</td>\n",
       "      <td>1</td>\n",
       "      <td>145</td>\n",
       "      <td>233</td>\n",
       "      <td>1</td>\n",
       "      <td>2</td>\n",
       "      <td>150</td>\n",
       "      <td>0</td>\n",
       "      <td>2.3</td>\n",
       "      <td>3</td>\n",
       "    </tr>\n",
       "    <tr>\n",
       "      <th>1</th>\n",
       "      <td>67</td>\n",
       "      <td>1</td>\n",
       "      <td>4</td>\n",
       "      <td>160</td>\n",
       "      <td>286</td>\n",
       "      <td>0</td>\n",
       "      <td>2</td>\n",
       "      <td>108</td>\n",
       "      <td>1</td>\n",
       "      <td>1.5</td>\n",
       "      <td>2</td>\n",
       "    </tr>\n",
       "    <tr>\n",
       "      <th>2</th>\n",
       "      <td>67</td>\n",
       "      <td>1</td>\n",
       "      <td>4</td>\n",
       "      <td>120</td>\n",
       "      <td>229</td>\n",
       "      <td>0</td>\n",
       "      <td>2</td>\n",
       "      <td>129</td>\n",
       "      <td>1</td>\n",
       "      <td>2.6</td>\n",
       "      <td>2</td>\n",
       "    </tr>\n",
       "    <tr>\n",
       "      <th>3</th>\n",
       "      <td>37</td>\n",
       "      <td>1</td>\n",
       "      <td>3</td>\n",
       "      <td>130</td>\n",
       "      <td>250</td>\n",
       "      <td>0</td>\n",
       "      <td>0</td>\n",
       "      <td>187</td>\n",
       "      <td>0</td>\n",
       "      <td>3.5</td>\n",
       "      <td>3</td>\n",
       "    </tr>\n",
       "    <tr>\n",
       "      <th>4</th>\n",
       "      <td>41</td>\n",
       "      <td>0</td>\n",
       "      <td>2</td>\n",
       "      <td>130</td>\n",
       "      <td>204</td>\n",
       "      <td>0</td>\n",
       "      <td>2</td>\n",
       "      <td>172</td>\n",
       "      <td>0</td>\n",
       "      <td>1.4</td>\n",
       "      <td>1</td>\n",
       "    </tr>\n",
       "  </tbody>\n",
       "</table>\n",
       "</div>"
      ],
      "text/plain": [
       "   age  sex  cp  trestbps  chol  fbs  restecg  thalach  exang  oldpeak  slope\n",
       "0   63    1   1       145   233    1        2      150      0      2.3      3\n",
       "1   67    1   4       160   286    0        2      108      1      1.5      2\n",
       "2   67    1   4       120   229    0        2      129      1      2.6      2\n",
       "3   37    1   3       130   250    0        0      187      0      3.5      3\n",
       "4   41    0   2       130   204    0        2      172      0      1.4      1"
      ]
     },
     "execution_count": 3,
     "metadata": {},
     "output_type": "execute_result"
    }
   ],
   "source": [
    "df = df.drop('id', axis=1)\n",
    "df.head()"
   ]
  },
  {
   "cell_type": "code",
   "execution_count": 4,
   "id": "1900e374",
   "metadata": {},
   "outputs": [],
   "source": [
    "from sklearn.model_selection import train_test_split\n",
    "train_tmp, test = train_test_split(df, test_size = 0.2)\n",
    "train, valid = train_test_split(train_tmp, test_size = 0.2)"
   ]
  },
  {
   "cell_type": "code",
   "execution_count": 5,
   "id": "7d15cf44",
   "metadata": {
    "scrolled": true
   },
   "outputs": [
    {
     "name": "stdout",
     "output_type": "stream",
     "text": [
      "193\n"
     ]
    }
   ],
   "source": [
    "print(len(train))"
   ]
  },
  {
   "cell_type": "code",
   "execution_count": 6,
   "id": "e4865c6a",
   "metadata": {
    "scrolled": true
   },
   "outputs": [
    {
     "name": "stdout",
     "output_type": "stream",
     "text": [
      "False\n"
     ]
    }
   ],
   "source": [
    "print(train.isnull().values.any())"
   ]
  },
  {
   "cell_type": "markdown",
   "id": "0773693c",
   "metadata": {},
   "source": [
    "# Preprocessing"
   ]
  },
  {
   "cell_type": "markdown",
   "id": "2a102794",
   "metadata": {},
   "source": [
    "We drop the id column as it should not influence the clustering."
   ]
  },
  {
   "cell_type": "code",
   "execution_count": 7,
   "id": "b14fe864",
   "metadata": {
    "scrolled": true
   },
   "outputs": [
    {
     "name": "stdout",
     "output_type": "stream",
     "text": [
      "<class 'pandas.core.frame.DataFrame'>\n",
      "Int64Index: 193 entries, 251 to 199\n",
      "Data columns (total 11 columns):\n",
      " #   Column    Non-Null Count  Dtype  \n",
      "---  ------    --------------  -----  \n",
      " 0   age       193 non-null    int64  \n",
      " 1   sex       193 non-null    int64  \n",
      " 2   cp        193 non-null    int64  \n",
      " 3   trestbps  193 non-null    int64  \n",
      " 4   chol      193 non-null    int64  \n",
      " 5   fbs       193 non-null    int64  \n",
      " 6   restecg   193 non-null    int64  \n",
      " 7   thalach   193 non-null    int64  \n",
      " 8   exang     193 non-null    int64  \n",
      " 9   oldpeak   193 non-null    float64\n",
      " 10  slope     193 non-null    int64  \n",
      "dtypes: float64(1), int64(10)\n",
      "memory usage: 18.1 KB\n"
     ]
    }
   ],
   "source": [
    "train.info()"
   ]
  },
  {
   "cell_type": "code",
   "execution_count": 8,
   "id": "a49899e6",
   "metadata": {
    "scrolled": true
   },
   "outputs": [
    {
     "data": {
      "text/plain": [
       "array([[<AxesSubplot:title={'center':'age'}>,\n",
       "        <AxesSubplot:title={'center':'sex'}>,\n",
       "        <AxesSubplot:title={'center':'cp'}>],\n",
       "       [<AxesSubplot:title={'center':'trestbps'}>,\n",
       "        <AxesSubplot:title={'center':'chol'}>,\n",
       "        <AxesSubplot:title={'center':'fbs'}>],\n",
       "       [<AxesSubplot:title={'center':'restecg'}>,\n",
       "        <AxesSubplot:title={'center':'thalach'}>,\n",
       "        <AxesSubplot:title={'center':'exang'}>],\n",
       "       [<AxesSubplot:title={'center':'oldpeak'}>,\n",
       "        <AxesSubplot:title={'center':'slope'}>, <AxesSubplot:>]],\n",
       "      dtype=object)"
      ]
     },
     "execution_count": 8,
     "metadata": {},
     "output_type": "execute_result"
    },
    {
     "data": {
      "image/png": "[encoded data removed]",
      "text/plain": [
       "<Figure size 1080x720 with 12 Axes>"
      ]
     },
     "metadata": {
      "needs_background": "light"
     },
     "output_type": "display_data"
    }
   ],
   "source": [
    "train.hist(figsize = (15, 10))"
   ]
  },
  {
   "cell_type": "markdown",
   "id": "1b3ed47a",
   "metadata": {},
   "source": [
    "As you can see, the dataset contains both numerical values and categorical values. Many standard clustering algorithms can only be used for one of them. We will try different approaches to deal with this problem."
   ]
  },
  {
   "cell_type": "code",
   "execution_count": 9,
   "id": "55a327d5",
   "metadata": {},
   "outputs": [
    {
     "data": {
      "text/html": [
       "<div>\n",
       "<style scoped>\n",
       "    .dataframe tbody tr th:only-of-type {\n",
       "        vertical-align: middle;\n",
       "    }\n",
       "\n",
       "    .dataframe tbody tr th {\n",
       "        vertical-align: top;\n",
       "    }\n",
       "\n",
       "    .dataframe thead th {\n",
       "        text-align: right;\n",
       "    }\n",
       "</style>\n",
       "<table border=\"1\" class=\"dataframe\">\n",
       "  <thead>\n",
       "    <tr style=\"text-align: right;\">\n",
       "      <th></th>\n",
       "      <th>age</th>\n",
       "      <th>sex</th>\n",
       "      <th>cp</th>\n",
       "      <th>trestbps</th>\n",
       "      <th>chol</th>\n",
       "      <th>fbs</th>\n",
       "      <th>restecg</th>\n",
       "      <th>thalach</th>\n",
       "      <th>exang</th>\n",
       "      <th>oldpeak</th>\n",
       "      <th>slope</th>\n",
       "    </tr>\n",
       "  </thead>\n",
       "  <tbody>\n",
       "  </tbody>\n",
       "</table>\n",
       "</div>"
      ],
      "text/plain": [
       "Empty DataFrame\n",
       "Columns: [age, sex, cp, trestbps, chol, fbs, restecg, thalach, exang, oldpeak, slope]\n",
       "Index: []"
      ]
     },
     "execution_count": 9,
     "metadata": {},
     "output_type": "execute_result"
    }
   ],
   "source": [
    "train[train['exang'] < 0]"
   ]
  },
  {
   "cell_type": "code",
   "execution_count": 14,
   "id": "7a1b5543",
   "metadata": {},
   "outputs": [
    {
     "data": {
      "text/plain": [
       "StandardScaler()"
      ]
     },
     "execution_count": 14,
     "metadata": {},
     "output_type": "execute_result"
    }
   ],
   "source": [
    "scaler = StandardScaler()\n",
    "scaler.fit(train)"
   ]
  },
  {
   "cell_type": "markdown",
   "id": "0d5eacf3",
   "metadata": {},
   "source": [
    "# KMeans algorithm"
   ]
  },
  {
   "cell_type": "markdown",
   "id": "d4f0837d",
   "metadata": {},
   "source": [
    "## Encoding cp, restecg, slope variables"
   ]
  },
  {
   "cell_type": "markdown",
   "id": "144f9265",
   "metadata": {},
   "source": [
    "cp, restecg and slope variables are categorical and distance does not make sense in terms of them, so let's use one hot encoding to solve this problem."
   ]
  },
  {
   "cell_type": "code",
   "execution_count": 15,
   "id": "d84363f7",
   "metadata": {},
   "outputs": [
    {
     "name": "stdout",
     "output_type": "stream",
     "text": [
      "<class 'pandas.core.frame.DataFrame'>\n",
      "Int64Index: 193 entries, 251 to 199\n",
      "Data columns (total 11 columns):\n",
      " #   Column    Non-Null Count  Dtype  \n",
      "---  ------    --------------  -----  \n",
      " 0   age       193 non-null    int64  \n",
      " 1   sex       193 non-null    int64  \n",
      " 2   cp        193 non-null    int64  \n",
      " 3   trestbps  193 non-null    int64  \n",
      " 4   chol      193 non-null    int64  \n",
      " 5   fbs       193 non-null    int64  \n",
      " 6   restecg   193 non-null    int64  \n",
      " 7   thalach   193 non-null    int64  \n",
      " 8   exang     193 non-null    int64  \n",
      " 9   oldpeak   193 non-null    float64\n",
      " 10  slope     193 non-null    int64  \n",
      "dtypes: float64(1), int64(10)\n",
      "memory usage: 18.1 KB\n"
     ]
    }
   ],
   "source": [
    "train.info()"
   ]
  },
  {
   "cell_type": "markdown",
   "id": "9bbc350f",
   "metadata": {},
   "source": [
    "## Finding the optimal number of clusters"
   ]
  },
  {
   "cell_type": "code",
   "execution_count": 16,
   "id": "4928f407",
   "metadata": {},
   "outputs": [],
   "source": [
    "from sklearn.cluster import KMeans\n",
    "from sklearn.pipeline import make_pipeline\n",
    "from sklearn.pipeline import Pipeline\n",
    "from sklearn.preprocessing import StandardScaler"
   ]
  },
  {
   "cell_type": "code",
   "execution_count": 17,
   "id": "82f0b0e6",
   "metadata": {},
   "outputs": [],
   "source": [
    "n_clusters_range = range(2,15)"
   ]
  },
  {
   "cell_type": "code",
   "execution_count": 18,
   "id": "37a21b47",
   "metadata": {},
   "outputs": [],
   "source": [
    "def calc_kmeans_inertia(n_clusters): \n",
    "    model = KMeans(n_clusters=n_clusters, n_init=1)\n",
    "    pipeline = Pipeline([\n",
    "    ('transform', scaler),\n",
    "    ('fit', model)])\n",
    "    pipeline.fit(train)\n",
    "    \n",
    "    return model.inertia_"
   ]
  },
  {
   "cell_type": "code",
   "execution_count": 19,
   "id": "2870fe88",
   "metadata": {},
   "outputs": [],
   "source": [
    "def get_kmeans_inertias():\n",
    "    inertias = []\n",
    "    for i in n_clusters_range:\n",
    "        inertias.append(calc_kmeans_inertia(i))\n",
    "    return inertias"
   ]
  },
  {
   "cell_type": "code",
   "execution_count": 20,
   "id": "f3e2214e",
   "metadata": {},
   "outputs": [],
   "source": [
    "import matplotlib.pyplot as plt\n",
    "\n",
    "def show_inertias(inertias):\n",
    "    plt.plot(n_clusters_range, inertias, marker='o')\n",
    "    plt.xticks(n_clusters_range)\n",
    "    plt.title('Number of clusters vs inertia')\n",
    "    plt.xlabel('Number of clusters')\n",
    "    plt.ylabel('Inertia')\n",
    "    plt.show()"
   ]
  },
  {
   "cell_type": "code",
   "execution_count": 53,
   "id": "c19d2b58",
   "metadata": {},
   "outputs": [
    {
     "data": {
      "image/png": "[encoded data removed]",
      "text/plain": [
       "<Figure size 432x288 with 1 Axes>"
      ]
     },
     "metadata": {
      "needs_background": "light"
     },
     "output_type": "display_data"
    }
   ],
   "source": [
    "inertias = get_kmeans_inertias()\n",
    "show_inertias(inertias)"
   ]
  },
  {
   "cell_type": "markdown",
   "id": "79d6b32d",
   "metadata": {},
   "source": [
    "Na podstawie analizy wykresu można wysnuć wniosek, że 6 klastrów wydaje się być wartością optymalną."
   ]
  },
  {
   "cell_type": "code",
   "execution_count": 54,
   "id": "1cd2b03b",
   "metadata": {},
   "outputs": [],
   "source": [
    "clusters_count_kmeans = 5"
   ]
  },
  {
   "cell_type": "markdown",
   "id": "4d402a44",
   "metadata": {},
   "source": [
    "## Model training and results visualization"
   ]
  },
  {
   "cell_type": "code",
   "execution_count": 55,
   "id": "b8e4a380",
   "metadata": {},
   "outputs": [],
   "source": [
    "best_kmeans_model = KMeans(n_clusters=clusters_count_kmeans, n_init=1).fit(train)\n",
    "\n",
    "def get_best_kmeans_labels(dataset):\n",
    "    pred = best_kmeans_model.predict(dataset)\n",
    "    return pred"
   ]
  },
  {
   "cell_type": "code",
   "execution_count": 56,
   "id": "55b71025",
   "metadata": {},
   "outputs": [
    {
     "data": {
      "text/plain": [
       "array([4, 1, 0, 3, 0, 1, 3, 0, 1, 0, 0, 4, 1, 0, 0, 3, 3, 0, 0, 0, 1, 0,\n",
       "       1, 1, 0, 0, 4, 0, 4, 0, 4, 3, 4, 3, 4, 0, 2, 1, 0, 0, 1, 1, 0, 1,\n",
       "       1, 3, 4, 4, 4, 0, 1, 0, 4, 0, 3, 0, 3, 3, 0, 1, 1, 3, 0, 1, 3, 1,\n",
       "       4, 1, 0, 0, 3, 2, 0, 3, 0, 3, 1, 1, 1, 1, 1, 0, 3, 3, 1, 1, 0, 3,\n",
       "       3, 4, 0, 3, 1, 3, 0, 0, 0, 0, 0, 1, 0, 0, 1, 2, 0, 4, 1, 4, 1, 1,\n",
       "       1, 3, 4, 0, 2, 1, 1, 0, 0, 4, 3, 0, 1, 0, 0, 0, 4, 1, 3, 1, 3, 0,\n",
       "       3, 1, 3, 0, 1, 4, 3, 3, 3, 1, 1, 3, 1, 0, 3, 0, 4, 0, 0, 1, 0, 3,\n",
       "       0, 3, 1, 0, 3, 0, 4, 0, 4, 4, 4, 1, 3, 3, 3, 0, 0, 4, 0, 4, 4, 1,\n",
       "       4, 0, 0, 0, 3, 3, 3, 3, 3, 3, 3, 0, 3, 3, 1, 4, 1])"
      ]
     },
     "execution_count": 56,
     "metadata": {},
     "output_type": "execute_result"
    }
   ],
   "source": [
    "get_best_kmeans_labels(train)"
   ]
  },
  {
   "cell_type": "markdown",
   "id": "ebed2b11",
   "metadata": {},
   "source": [
    "Po wykonaniu klasteryzacji spłaszczamy dane do mniejszej ilości wymiarów w celu zwizualizowania podziału obserwacji na klastry."
   ]
  },
  {
   "cell_type": "code",
   "execution_count": 57,
   "id": "b1e2852b",
   "metadata": {},
   "outputs": [],
   "source": [
    "from sklearn.decomposition import PCA\n",
    "import numpy as np"
   ]
  },
  {
   "cell_type": "code",
   "execution_count": 58,
   "id": "372bd681",
   "metadata": {
    "scrolled": false
   },
   "outputs": [
    {
     "name": "stdout",
     "output_type": "stream",
     "text": [
      "[0.27032686 0.12167134 0.11162497 0.09723177 0.08383659 0.07316379\n",
      " 0.06942443 0.06334829 0.04595735 0.03310454 0.03031008]\n"
     ]
    },
    {
     "data": {
      "image/png": "[encoded data removed]",
      "text/plain": [
       "<Figure size 432x288 with 1 Axes>"
      ]
     },
     "metadata": {
      "needs_background": "light"
     },
     "output_type": "display_data"
    }
   ],
   "source": [
    "pca = PCA()\n",
    "pipeline = Pipeline([\n",
    "    ('transform', scaler),\n",
    "    ('fit', pca) \n",
    "    ])\n",
    "pipeline.fit(train)\n",
    "\n",
    "explained_variance = pca.explained_variance_ratio_\n",
    "\n",
    "plt.bar(np.arange(len(explained_variance)), explained_variance)\n",
    "plt.title('Explained variance ratio by dimension')\n",
    "plt.xlabel('Dimension index')\n",
    "plt.ylabel('Explained variance ratio')\n",
    "\n",
    "cum_sum_eigenvalues = np.cumsum(explained_variance)\n",
    "plt.step(range(0,len(cum_sum_eigenvalues)), cum_sum_eigenvalues, where='mid',label='Cumulative explained variance')\n",
    "\n",
    "xticks = range(1, len(pca.components_) + 1)\n",
    "plt.xticks(xticks)\n",
    "\n",
    "print(explained_variance)"
   ]
  },
  {
   "cell_type": "markdown",
   "id": "43ae0469",
   "metadata": {},
   "source": [
    "All of the dimensions contribute significantly to variance explanation, so it is hard to visualize the clusters on a plot (with max 3 dimensions)."
   ]
  },
  {
   "cell_type": "code",
   "execution_count": 59,
   "id": "3388f17d",
   "metadata": {
    "scrolled": true
   },
   "outputs": [],
   "source": [
    "pca_reduced = PCA(n_components=3)\n",
    "pca_reduced.fit(train)\n",
    "\n",
    "def show_3d_clustering(dataset, method):\n",
    "    '''\n",
    "    available methods: ['kmeans', 'gower', 'agglomerative', 'kmeds']\n",
    "    '''\n",
    "    if method == \"kmeans\":\n",
    "        pred = get_best_kmeans_labels(dataset)\n",
    "    elif method == \"gower\":\n",
    "        pred = get_best_gower_labels(dataset)\n",
    "    elif method == \"agglomerative\":\n",
    "        pred = get_best_agglomerative_labels(dataset)\n",
    "    elif method == \"kmeds\":\n",
    "        pred = get_best_kmeds_labels(dataset)\n",
    "    else:\n",
    "        print(\"available methods: ['kmeans', 'gower', 'agglomerative', 'kmeds']\")\n",
    "        return\n",
    "    \n",
    "    low_d = pca_reduced.transform(dataset)\n",
    "\n",
    "    for class_ in range(0, clusters_count_kmeans + 1):\n",
    "        class_members = np.where(pred == class_)\n",
    "        class_points = low_d[class_members]\n",
    "        xs = [point[0] for point in class_points]\n",
    "        ys = [point[1] for point in class_points]\n",
    "        zs = [point[2] for point in class_points]\n",
    "\n",
    "        plt.scatter(xs, ys, zs, alpha=0.5)"
   ]
  },
  {
   "cell_type": "code",
   "execution_count": 60,
   "id": "6b9e4eb1",
   "metadata": {},
   "outputs": [
    {
     "name": "stderr",
     "output_type": "stream",
     "text": [
      "C:\\ProgramData\\Anaconda3\\lib\\site-packages\\matplotlib\\collections.py:922: RuntimeWarning: invalid value encountered in sqrt\n",
      "  scale = np.sqrt(self._sizes) * dpi / 72.0 * self._factor\n"
     ]
    },
    {
     "data": {
      "image/png": "[encoded data removed]",
      "text/plain": [
       "<Figure size 432x288 with 1 Axes>"
      ]
     },
     "metadata": {
      "needs_background": "light"
     },
     "output_type": "display_data"
    }
   ],
   "source": [
    "show_3d_clustering(train, 'kmeans')"
   ]
  },
  {
   "cell_type": "markdown",
   "id": "5045d523",
   "metadata": {},
   "source": [
    "## Interpreting clusters"
   ]
  },
  {
   "cell_type": "code",
   "execution_count": 61,
   "id": "153f7909",
   "metadata": {
    "scrolled": true
   },
   "outputs": [],
   "source": [
    "def get_dataset_with_clusters(dataset, method):\n",
    "    '''\n",
    "    available methods: ['kmeans', 'gower', 'agglomerative', 'kmeds']\n",
    "    '''\n",
    "    if method == \"kmeans\":\n",
    "        pred = get_best_kmeans_labels(dataset)\n",
    "    elif method == \"gower\":\n",
    "        pred = get_best_gower_labels(dataset)\n",
    "    elif method == \"agglomerative\":\n",
    "        pred = get_best_agglomerative_labels(dataset)\n",
    "    elif method == \"kmeds\":\n",
    "        pred = get_best_kmeds_labels(dataset)\n",
    "    else:\n",
    "        print(\"available methods: ['kmeans', 'gower', 'agglomerative', 'kmeds']\")\n",
    "        return\n",
    "    dataset_clustered = dataset.copy()\n",
    "    dataset_clustered['cluster'] = pred\n",
    "    return dataset_clustered"
   ]
  },
  {
   "cell_type": "code",
   "execution_count": 62,
   "id": "b249dcac",
   "metadata": {},
   "outputs": [
    {
     "data": {
      "text/html": [
       "<div>\n",
       "<style scoped>\n",
       "    .dataframe tbody tr th:only-of-type {\n",
       "        vertical-align: middle;\n",
       "    }\n",
       "\n",
       "    .dataframe tbody tr th {\n",
       "        vertical-align: top;\n",
       "    }\n",
       "\n",
       "    .dataframe thead th {\n",
       "        text-align: right;\n",
       "    }\n",
       "</style>\n",
       "<table border=\"1\" class=\"dataframe\">\n",
       "  <thead>\n",
       "    <tr style=\"text-align: right;\">\n",
       "      <th></th>\n",
       "      <th>age</th>\n",
       "      <th>sex</th>\n",
       "      <th>cp</th>\n",
       "      <th>trestbps</th>\n",
       "      <th>chol</th>\n",
       "      <th>fbs</th>\n",
       "      <th>restecg</th>\n",
       "      <th>thalach</th>\n",
       "      <th>exang</th>\n",
       "      <th>oldpeak</th>\n",
       "      <th>slope</th>\n",
       "      <th>cluster</th>\n",
       "    </tr>\n",
       "  </thead>\n",
       "  <tbody>\n",
       "    <tr>\n",
       "      <th>251</th>\n",
       "      <td>58</td>\n",
       "      <td>1</td>\n",
       "      <td>4</td>\n",
       "      <td>146</td>\n",
       "      <td>218</td>\n",
       "      <td>0</td>\n",
       "      <td>0</td>\n",
       "      <td>105</td>\n",
       "      <td>0</td>\n",
       "      <td>2.0</td>\n",
       "      <td>2</td>\n",
       "      <td>4</td>\n",
       "    </tr>\n",
       "    <tr>\n",
       "      <th>291</th>\n",
       "      <td>55</td>\n",
       "      <td>0</td>\n",
       "      <td>2</td>\n",
       "      <td>132</td>\n",
       "      <td>342</td>\n",
       "      <td>0</td>\n",
       "      <td>0</td>\n",
       "      <td>166</td>\n",
       "      <td>0</td>\n",
       "      <td>1.2</td>\n",
       "      <td>1</td>\n",
       "      <td>1</td>\n",
       "    </tr>\n",
       "    <tr>\n",
       "      <th>281</th>\n",
       "      <td>47</td>\n",
       "      <td>1</td>\n",
       "      <td>3</td>\n",
       "      <td>130</td>\n",
       "      <td>253</td>\n",
       "      <td>0</td>\n",
       "      <td>0</td>\n",
       "      <td>179</td>\n",
       "      <td>0</td>\n",
       "      <td>0.0</td>\n",
       "      <td>1</td>\n",
       "      <td>0</td>\n",
       "    </tr>\n",
       "    <tr>\n",
       "      <th>117</th>\n",
       "      <td>35</td>\n",
       "      <td>0</td>\n",
       "      <td>4</td>\n",
       "      <td>138</td>\n",
       "      <td>183</td>\n",
       "      <td>0</td>\n",
       "      <td>0</td>\n",
       "      <td>182</td>\n",
       "      <td>0</td>\n",
       "      <td>1.4</td>\n",
       "      <td>1</td>\n",
       "      <td>3</td>\n",
       "    </tr>\n",
       "    <tr>\n",
       "      <th>144</th>\n",
       "      <td>58</td>\n",
       "      <td>1</td>\n",
       "      <td>3</td>\n",
       "      <td>105</td>\n",
       "      <td>240</td>\n",
       "      <td>0</td>\n",
       "      <td>2</td>\n",
       "      <td>154</td>\n",
       "      <td>1</td>\n",
       "      <td>0.6</td>\n",
       "      <td>2</td>\n",
       "      <td>0</td>\n",
       "    </tr>\n",
       "    <tr>\n",
       "      <th>...</th>\n",
       "      <td>...</td>\n",
       "      <td>...</td>\n",
       "      <td>...</td>\n",
       "      <td>...</td>\n",
       "      <td>...</td>\n",
       "      <td>...</td>\n",
       "      <td>...</td>\n",
       "      <td>...</td>\n",
       "      <td>...</td>\n",
       "      <td>...</td>\n",
       "      <td>...</td>\n",
       "      <td>...</td>\n",
       "    </tr>\n",
       "    <tr>\n",
       "      <th>266</th>\n",
       "      <td>52</td>\n",
       "      <td>1</td>\n",
       "      <td>4</td>\n",
       "      <td>128</td>\n",
       "      <td>204</td>\n",
       "      <td>1</td>\n",
       "      <td>0</td>\n",
       "      <td>156</td>\n",
       "      <td>1</td>\n",
       "      <td>1.0</td>\n",
       "      <td>2</td>\n",
       "      <td>3</td>\n",
       "    </tr>\n",
       "    <tr>\n",
       "      <th>222</th>\n",
       "      <td>39</td>\n",
       "      <td>0</td>\n",
       "      <td>3</td>\n",
       "      <td>94</td>\n",
       "      <td>199</td>\n",
       "      <td>0</td>\n",
       "      <td>0</td>\n",
       "      <td>179</td>\n",
       "      <td>0</td>\n",
       "      <td>0.0</td>\n",
       "      <td>1</td>\n",
       "      <td>3</td>\n",
       "    </tr>\n",
       "    <tr>\n",
       "      <th>239</th>\n",
       "      <td>42</td>\n",
       "      <td>1</td>\n",
       "      <td>2</td>\n",
       "      <td>120</td>\n",
       "      <td>295</td>\n",
       "      <td>0</td>\n",
       "      <td>0</td>\n",
       "      <td>162</td>\n",
       "      <td>0</td>\n",
       "      <td>0.0</td>\n",
       "      <td>1</td>\n",
       "      <td>1</td>\n",
       "    </tr>\n",
       "    <tr>\n",
       "      <th>226</th>\n",
       "      <td>47</td>\n",
       "      <td>1</td>\n",
       "      <td>4</td>\n",
       "      <td>112</td>\n",
       "      <td>204</td>\n",
       "      <td>0</td>\n",
       "      <td>0</td>\n",
       "      <td>143</td>\n",
       "      <td>0</td>\n",
       "      <td>0.1</td>\n",
       "      <td>1</td>\n",
       "      <td>4</td>\n",
       "    </tr>\n",
       "    <tr>\n",
       "      <th>199</th>\n",
       "      <td>59</td>\n",
       "      <td>1</td>\n",
       "      <td>1</td>\n",
       "      <td>160</td>\n",
       "      <td>273</td>\n",
       "      <td>0</td>\n",
       "      <td>2</td>\n",
       "      <td>125</td>\n",
       "      <td>0</td>\n",
       "      <td>0.0</td>\n",
       "      <td>1</td>\n",
       "      <td>1</td>\n",
       "    </tr>\n",
       "  </tbody>\n",
       "</table>\n",
       "<p>193 rows × 12 columns</p>\n",
       "</div>"
      ],
      "text/plain": [
       "     age  sex  cp  trestbps  chol  fbs  restecg  thalach  exang  oldpeak  \\\n",
       "251   58    1   4       146   218    0        0      105      0      2.0   \n",
       "291   55    0   2       132   342    0        0      166      0      1.2   \n",
       "281   47    1   3       130   253    0        0      179      0      0.0   \n",
       "117   35    0   4       138   183    0        0      182      0      1.4   \n",
       "144   58    1   3       105   240    0        2      154      1      0.6   \n",
       "..   ...  ...  ..       ...   ...  ...      ...      ...    ...      ...   \n",
       "266   52    1   4       128   204    1        0      156      1      1.0   \n",
       "222   39    0   3        94   199    0        0      179      0      0.0   \n",
       "239   42    1   2       120   295    0        0      162      0      0.0   \n",
       "226   47    1   4       112   204    0        0      143      0      0.1   \n",
       "199   59    1   1       160   273    0        2      125      0      0.0   \n",
       "\n",
       "     slope  cluster  \n",
       "251      2        4  \n",
       "291      1        1  \n",
       "281      1        0  \n",
       "117      1        3  \n",
       "144      2        0  \n",
       "..     ...      ...  \n",
       "266      2        3  \n",
       "222      1        3  \n",
       "239      1        1  \n",
       "226      1        4  \n",
       "199      1        1  \n",
       "\n",
       "[193 rows x 12 columns]"
      ]
     },
     "execution_count": 62,
     "metadata": {},
     "output_type": "execute_result"
    }
   ],
   "source": [
    "get_dataset_with_clusters(train, \"kmeans\")"
   ]
  },
  {
   "cell_type": "code",
   "execution_count": 63,
   "id": "c01f3912",
   "metadata": {
    "scrolled": false
   },
   "outputs": [],
   "source": [
    "from collections import defaultdict\n",
    "\n",
    "def show_stats_by_cluster(dataset, method):\n",
    "    '''\n",
    "    available methods: ['kmeans', 'gower', 'agglomerative', 'kmeds']\n",
    "    '''\n",
    "    dataset_clustered = get_dataset_with_clusters(dataset, method)\n",
    "    plt.rcParams['errorbar.capsize'] = 5\n",
    "    stats = defaultdict(dict)\n",
    "\n",
    "    numeric_stats = ['age', 'trestbps', 'chol', 'thalach', 'oldpeak']\n",
    "    bool_stats = ['fbs', 'exang']\n",
    "    categorical_stats = ['cp', 'restecg', 'slope']\n",
    "\n",
    "    for cluster, new_df in dataset_clustered.groupby('cluster'):\n",
    "        cluster_description = new_df.describe().loc[['mean', 'min', 'max']]\n",
    "\n",
    "        for col_name, col_data in cluster_description.items():\n",
    "            if col_name in numeric_stats + bool_stats:\n",
    "                stats[col_name][cluster] = col_data\n",
    "\n",
    "    colors = ['#1b9e77', '#a9f971', '#fdaa48','#6890F0','#A890F0', 'pink']\n",
    "\n",
    "    for stat_name, stat in stats.items(): \n",
    "        unzipped = list(zip(*stat.values()))\n",
    "        plt.figure()\n",
    "\n",
    "        if stat_name in bool_stats:\n",
    "            stat = stats[stat_name]\n",
    "            plt.bar(stat.keys(), unzipped[0], color=colors)\n",
    "            plt.title(f'Percentage of true values: {stat_name}')\n",
    "            plt.xlabel('Cluster index')\n",
    "\n",
    "            continue\n",
    "\n",
    "        means = unzipped[0]\n",
    "        min_ = np.array(unzipped[1])\n",
    "        min_ = means - min_\n",
    "        max_ = np.array(unzipped[2])\n",
    "        max_ = max_ - means\n",
    "\n",
    "        yerr = np.dstack((min_, max_))[0]\n",
    "        yerr = np.transpose(yerr)\n",
    "\n",
    "        plt.bar(stat.keys(), means, yerr=yerr, color=colors)\n",
    "        plt.title(stat_name)\n",
    "        plt.xlabel('Cluster index')\n",
    "        plt.ylabel('Value')"
   ]
  },
  {
   "cell_type": "code",
   "execution_count": 64,
   "id": "db8bda90",
   "metadata": {},
   "outputs": [
    {
     "data": {
      "image/png": "[encoded data removed]",
      "text/plain": [
       "<Figure size 432x288 with 1 Axes>"
      ]
     },
     "metadata": {
      "needs_background": "light"
     },
     "output_type": "display_data"
    },
    {
     "data": {
      "image/png": "[encoded data removed]",
      "text/plain": [
       "<Figure size 432x288 with 1 Axes>"
      ]
     },
     "metadata": {
      "needs_background": "light"
     },
     "output_type": "display_data"
    },
    {
     "data": {
      "image/png": "[encoded data removed]",
      "text/plain": [
       "<Figure size 432x288 with 1 Axes>"
      ]
     },
     "metadata": {
      "needs_background": "light"
     },
     "output_type": "display_data"
    },
    {
     "data": {
      "image/png": "[encoded data removed]",
      "text/plain": [
       "<Figure size 432x288 with 1 Axes>"
      ]
     },
     "metadata": {
      "needs_background": "light"
     },
     "output_type": "display_data"
    },
    {
     "data": {
      "image/png": "[encoded data removed]",
      "text/plain": [
       "<Figure size 432x288 with 1 Axes>"
      ]
     },
     "metadata": {
      "needs_background": "light"
     },
     "output_type": "display_data"
    },
    {
     "data": {
      "image/png": "[encoded data removed]",
      "text/plain": [
       "<Figure size 432x288 with 1 Axes>"
      ]
     },
     "metadata": {
      "needs_background": "light"
     },
     "output_type": "display_data"
    },
    {
     "data": {
      "image/png": "[encoded data removed]",
      "text/plain": [
       "<Figure size 432x288 with 1 Axes>"
      ]
     },
     "metadata": {
      "needs_background": "light"
     },
     "output_type": "display_data"
    }
   ],
   "source": [
    "show_stats_by_cluster(valid, 'kmeans')"
   ]
  },
  {
   "cell_type": "code",
   "execution_count": 92,
   "id": "183b223e",
   "metadata": {
    "scrolled": true
   },
   "outputs": [],
   "source": [
    "categorical_stats = ['cp', 'restecg', 'slope']\n",
    "def show_most_common(dataset, method):\n",
    "    '''\n",
    "    available methods: ['kmeans', 'gower', 'agglomerative', 'kmeds']\n",
    "    '''\n",
    "    for stat in categorical_stats:\n",
    "\n",
    "        dataset_clustered = get_dataset_with_clusters(dataset, method)\n",
    "        dfg = dataset_clustered.groupby(['cluster',stat])\n",
    "        frequencies = dfg.size().unstack()\n",
    "        frequencies = frequencies.fillna(0)\n",
    "        most_common = frequencies.idxmax(axis=1)\n",
    "        summary = pd.DataFrame(most_common, columns=['Most common value'])\n",
    "        print(f'Most common values of {stat}')\n",
    "        display(summary.style)"
   ]
  },
  {
   "cell_type": "code",
   "execution_count": 93,
   "id": "cffca88f",
   "metadata": {},
   "outputs": [
    {
     "name": "stdout",
     "output_type": "stream",
     "text": [
      "Most common values of cp\n"
     ]
    },
    {
     "data": {
      "text/html": [
       "<style  type=\"text/css\" >\n",
       "</style><table id=\"T_7c613_\" ><thead>    <tr>        <th class=\"blank level0\" ></th>        <th class=\"col_heading level0 col0\" >Most common value</th>    </tr>    <tr>        <th class=\"index_name level0\" >cluster</th>        <th class=\"blank\" ></th>    </tr></thead><tbody>\n",
       "                <tr>\n",
       "                        <th id=\"T_7c613_level0_row0\" class=\"row_heading level0 row0\" >0</th>\n",
       "                        <td id=\"T_7c613_row0_col0\" class=\"data row0 col0\" >4</td>\n",
       "            </tr>\n",
       "            <tr>\n",
       "                        <th id=\"T_7c613_level0_row1\" class=\"row_heading level0 row1\" >1</th>\n",
       "                        <td id=\"T_7c613_row1_col0\" class=\"data row1 col0\" >4</td>\n",
       "            </tr>\n",
       "            <tr>\n",
       "                        <th id=\"T_7c613_level0_row2\" class=\"row_heading level0 row2\" >2</th>\n",
       "                        <td id=\"T_7c613_row2_col0\" class=\"data row2 col0\" >4</td>\n",
       "            </tr>\n",
       "            <tr>\n",
       "                        <th id=\"T_7c613_level0_row3\" class=\"row_heading level0 row3\" >3</th>\n",
       "                        <td id=\"T_7c613_row3_col0\" class=\"data row3 col0\" >3</td>\n",
       "            </tr>\n",
       "            <tr>\n",
       "                        <th id=\"T_7c613_level0_row4\" class=\"row_heading level0 row4\" >4</th>\n",
       "                        <td id=\"T_7c613_row4_col0\" class=\"data row4 col0\" >4</td>\n",
       "            </tr>\n",
       "    </tbody></table>"
      ],
      "text/plain": [
       "<pandas.io.formats.style.Styler at 0x2cf38efe730>"
      ]
     },
     "metadata": {},
     "output_type": "display_data"
    },
    {
     "name": "stdout",
     "output_type": "stream",
     "text": [
      "Most common values of restecg\n"
     ]
    },
    {
     "data": {
      "text/html": [
       "<style  type=\"text/css\" >\n",
       "</style><table id=\"T_6f04c_\" ><thead>    <tr>        <th class=\"blank level0\" ></th>        <th class=\"col_heading level0 col0\" >Most common value</th>    </tr>    <tr>        <th class=\"index_name level0\" >cluster</th>        <th class=\"blank\" ></th>    </tr></thead><tbody>\n",
       "                <tr>\n",
       "                        <th id=\"T_6f04c_level0_row0\" class=\"row_heading level0 row0\" >0</th>\n",
       "                        <td id=\"T_6f04c_row0_col0\" class=\"data row0 col0\" >2</td>\n",
       "            </tr>\n",
       "            <tr>\n",
       "                        <th id=\"T_6f04c_level0_row1\" class=\"row_heading level0 row1\" >1</th>\n",
       "                        <td id=\"T_6f04c_row1_col0\" class=\"data row1 col0\" >2</td>\n",
       "            </tr>\n",
       "            <tr>\n",
       "                        <th id=\"T_6f04c_level0_row2\" class=\"row_heading level0 row2\" >2</th>\n",
       "                        <td id=\"T_6f04c_row2_col0\" class=\"data row2 col0\" >2</td>\n",
       "            </tr>\n",
       "            <tr>\n",
       "                        <th id=\"T_6f04c_level0_row3\" class=\"row_heading level0 row3\" >3</th>\n",
       "                        <td id=\"T_6f04c_row3_col0\" class=\"data row3 col0\" >0</td>\n",
       "            </tr>\n",
       "            <tr>\n",
       "                        <th id=\"T_6f04c_level0_row4\" class=\"row_heading level0 row4\" >4</th>\n",
       "                        <td id=\"T_6f04c_row4_col0\" class=\"data row4 col0\" >0</td>\n",
       "            </tr>\n",
       "    </tbody></table>"
      ],
      "text/plain": [
       "<pandas.io.formats.style.Styler at 0x2cf3665a430>"
      ]
     },
     "metadata": {},
     "output_type": "display_data"
    },
    {
     "name": "stdout",
     "output_type": "stream",
     "text": [
      "Most common values of slope\n"
     ]
    },
    {
     "data": {
      "text/html": [
       "<style  type=\"text/css\" >\n",
       "</style><table id=\"T_98236_\" ><thead>    <tr>        <th class=\"blank level0\" ></th>        <th class=\"col_heading level0 col0\" >Most common value</th>    </tr>    <tr>        <th class=\"index_name level0\" >cluster</th>        <th class=\"blank\" ></th>    </tr></thead><tbody>\n",
       "                <tr>\n",
       "                        <th id=\"T_98236_level0_row0\" class=\"row_heading level0 row0\" >0</th>\n",
       "                        <td id=\"T_98236_row0_col0\" class=\"data row0 col0\" >2</td>\n",
       "            </tr>\n",
       "            <tr>\n",
       "                        <th id=\"T_98236_level0_row1\" class=\"row_heading level0 row1\" >1</th>\n",
       "                        <td id=\"T_98236_row1_col0\" class=\"data row1 col0\" >2</td>\n",
       "            </tr>\n",
       "            <tr>\n",
       "                        <th id=\"T_98236_level0_row2\" class=\"row_heading level0 row2\" >2</th>\n",
       "                        <td id=\"T_98236_row2_col0\" class=\"data row2 col0\" >2</td>\n",
       "            </tr>\n",
       "            <tr>\n",
       "                        <th id=\"T_98236_level0_row3\" class=\"row_heading level0 row3\" >3</th>\n",
       "                        <td id=\"T_98236_row3_col0\" class=\"data row3 col0\" >1</td>\n",
       "            </tr>\n",
       "            <tr>\n",
       "                        <th id=\"T_98236_level0_row4\" class=\"row_heading level0 row4\" >4</th>\n",
       "                        <td id=\"T_98236_row4_col0\" class=\"data row4 col0\" >2</td>\n",
       "            </tr>\n",
       "    </tbody></table>"
      ],
      "text/plain": [
       "<pandas.io.formats.style.Styler at 0x2cf36a36760>"
      ]
     },
     "metadata": {},
     "output_type": "display_data"
    }
   ],
   "source": [
    "show_most_common(train, 'kmeans')"
   ]
  },
  {
   "cell_type": "markdown",
   "id": "f820974f",
   "metadata": {},
   "source": [
    "# Aglomerative Clustering with Gower Matrix"
   ]
  },
  {
   "cell_type": "code",
   "execution_count": 94,
   "id": "a20ec1f1",
   "metadata": {},
   "outputs": [],
   "source": [
    "import gower\n",
    "from sklearn_extra.cluster import KMedoids\n",
    "from sklearn.pipeline import make_pipeline\n",
    "from sklearn.preprocessing import StandardScaler\n",
    "from sklearn.cluster import AgglomerativeClustering\n",
    "from sklearn.metrics import silhouette_score\n",
    "dist_matrix = gower.gower_matrix(train)"
   ]
  },
  {
   "cell_type": "code",
   "execution_count": 95,
   "id": "8ad46ee4",
   "metadata": {},
   "outputs": [],
   "source": [
    "def calc_gower_silhouette(n_clusters):\n",
    "    model1 = AgglomerativeClustering(n_clusters=n_clusters, \n",
    "                                affinity='precomputed', linkage = 'single').fit(dist_matrix)\n",
    "    model2 = AgglomerativeClustering(n_clusters=n_clusters, \n",
    "                                affinity='precomputed', linkage = 'average').fit(dist_matrix)\n",
    "    model3 = AgglomerativeClustering(n_clusters=n_clusters, \n",
    "                                affinity='precomputed', linkage = 'complete').fit(dist_matrix)\n",
    "    \n",
    "    return np.array([silhouette_score(dist_matrix, model1.labels_),\n",
    "                     silhouette_score(dist_matrix, model2.labels_),\n",
    "                     silhouette_score(dist_matrix, model3.labels_)])"
   ]
  },
  {
   "cell_type": "code",
   "execution_count": 96,
   "id": "509bbbbf",
   "metadata": {},
   "outputs": [],
   "source": [
    "def get_gower_silhouettes():\n",
    "    silhouettes = np.empty((13,3))\n",
    "    for i in n_clusters_range:\n",
    "        silhouettes[i-2] = calc_gower_silhouette(i)\n",
    "    return silhouettes"
   ]
  },
  {
   "cell_type": "code",
   "execution_count": 97,
   "id": "588f961b",
   "metadata": {},
   "outputs": [],
   "source": [
    "def show_silhouettes(silhouettes):\n",
    "    for i in range(silhouettes.shape[1]):\n",
    "        plt.plot(n_clusters_range, silhouettes[:,i], marker='o')\n",
    "    labels = [\"single\", \"average\", \"complete\"]\n",
    "    if silhouettes.shape[1] ==4:\n",
    "        labels.append(\"ward\")\n",
    "    plt.xticks(n_clusters_range)\n",
    "    plt.title('Number of clusters vs Silhouette')\n",
    "    plt.xlabel('Number of clusters')\n",
    "    plt.ylabel('Silhouette')\n",
    "    if silhouettes.shape[1]>1:\n",
    "        plt.legend(labels)\n",
    "    plt.show()"
   ]
  },
  {
   "cell_type": "code",
   "execution_count": 98,
   "id": "d800f9c0",
   "metadata": {},
   "outputs": [
    {
     "data": {
      "image/png": "[encoded data removed]",
      "text/plain": [
       "<Figure size 432x288 with 1 Axes>"
      ]
     },
     "metadata": {
      "needs_background": "light"
     },
     "output_type": "display_data"
    }
   ],
   "source": [
    "silhouettes = get_gower_silhouettes()\n",
    "show_silhouettes(silhouettes)"
   ]
  },
  {
   "cell_type": "code",
   "execution_count": 99,
   "id": "e330ef26",
   "metadata": {},
   "outputs": [],
   "source": [
    "clusters_count_gower = 9"
   ]
  },
  {
   "cell_type": "code",
   "execution_count": 100,
   "id": "4c3adcc7",
   "metadata": {},
   "outputs": [],
   "source": [
    "def get_best_gower_labels(dataset):\n",
    "    dist_matrix = gower.gower_matrix(dataset)\n",
    "    model = AgglomerativeClustering(n_clusters=clusters_count_gower, \n",
    "                                affinity='precomputed', linkage = 'complete').fit(dist_matrix)\n",
    "    pred = model.labels_\n",
    "    return pred"
   ]
  },
  {
   "cell_type": "code",
   "execution_count": 101,
   "id": "d510561d",
   "metadata": {},
   "outputs": [
    {
     "name": "stderr",
     "output_type": "stream",
     "text": [
      "C:\\ProgramData\\Anaconda3\\lib\\site-packages\\matplotlib\\collections.py:922: RuntimeWarning: invalid value encountered in sqrt\n",
      "  scale = np.sqrt(self._sizes) * dpi / 72.0 * self._factor\n"
     ]
    },
    {
     "data": {
      "image/png": "[encoded data removed]",
      "text/plain": [
       "<Figure size 432x288 with 1 Axes>"
      ]
     },
     "metadata": {
      "needs_background": "light"
     },
     "output_type": "display_data"
    }
   ],
   "source": [
    "show_3d_clustering(train, \"gower\")"
   ]
  },
  {
   "cell_type": "code",
   "execution_count": 102,
   "id": "f09582e1",
   "metadata": {},
   "outputs": [
    {
     "data": {
      "image/png": "[encoded data removed]",
      "text/plain": [
       "<Figure size 432x288 with 1 Axes>"
      ]
     },
     "metadata": {
      "needs_background": "light"
     },
     "output_type": "display_data"
    },
    {
     "data": {
      "image/png": "[encoded data removed]",
      "text/plain": [
       "<Figure size 432x288 with 1 Axes>"
      ]
     },
     "metadata": {
      "needs_background": "light"
     },
     "output_type": "display_data"
    },
    {
     "data": {
      "image/png": "[encoded data removed]",
      "text/plain": [
       "<Figure size 432x288 with 1 Axes>"
      ]
     },
     "metadata": {
      "needs_background": "light"
     },
     "output_type": "display_data"
    },
    {
     "data": {
      "image/png": "[encoded data removed]",
      "text/plain": [
       "<Figure size 432x288 with 1 Axes>"
      ]
     },
     "metadata": {
      "needs_background": "light"
     },
     "output_type": "display_data"
    },
    {
     "data": {
      "image/png": "[encoded data removed]",
      "text/plain": [
       "<Figure size 432x288 with 1 Axes>"
      ]
     },
     "metadata": {
      "needs_background": "light"
     },
     "output_type": "display_data"
    },
    {
     "data": {
      "image/png": "[encoded data removed]",
      "text/plain": [
       "<Figure size 432x288 with 1 Axes>"
      ]
     },
     "metadata": {
      "needs_background": "light"
     },
     "output_type": "display_data"
    },
    {
     "data": {
      "image/png": "[encoded data removed]",
      "text/plain": [
       "<Figure size 432x288 with 1 Axes>"
      ]
     },
     "metadata": {
      "needs_background": "light"
     },
     "output_type": "display_data"
    }
   ],
   "source": [
    "show_stats_by_cluster(train, 'gower')"
   ]
  },
  {
   "cell_type": "code",
   "execution_count": 103,
   "id": "05820c0c",
   "metadata": {},
   "outputs": [
    {
     "name": "stdout",
     "output_type": "stream",
     "text": [
      "Most common values of cp\n"
     ]
    },
    {
     "data": {
      "text/html": [
       "<style  type=\"text/css\" >\n",
       "</style><table id=\"T_5be74_\" ><thead>    <tr>        <th class=\"blank level0\" ></th>        <th class=\"col_heading level0 col0\" >Most common value</th>    </tr>    <tr>        <th class=\"index_name level0\" >cluster</th>        <th class=\"blank\" ></th>    </tr></thead><tbody>\n",
       "                <tr>\n",
       "                        <th id=\"T_5be74_level0_row0\" class=\"row_heading level0 row0\" >0</th>\n",
       "                        <td id=\"T_5be74_row0_col0\" class=\"data row0 col0\" >4</td>\n",
       "            </tr>\n",
       "            <tr>\n",
       "                        <th id=\"T_5be74_level0_row1\" class=\"row_heading level0 row1\" >1</th>\n",
       "                        <td id=\"T_5be74_row1_col0\" class=\"data row1 col0\" >3</td>\n",
       "            </tr>\n",
       "            <tr>\n",
       "                        <th id=\"T_5be74_level0_row2\" class=\"row_heading level0 row2\" >2</th>\n",
       "                        <td id=\"T_5be74_row2_col0\" class=\"data row2 col0\" >4</td>\n",
       "            </tr>\n",
       "            <tr>\n",
       "                        <th id=\"T_5be74_level0_row3\" class=\"row_heading level0 row3\" >3</th>\n",
       "                        <td id=\"T_5be74_row3_col0\" class=\"data row3 col0\" >4</td>\n",
       "            </tr>\n",
       "            <tr>\n",
       "                        <th id=\"T_5be74_level0_row4\" class=\"row_heading level0 row4\" >4</th>\n",
       "                        <td id=\"T_5be74_row4_col0\" class=\"data row4 col0\" >3</td>\n",
       "            </tr>\n",
       "            <tr>\n",
       "                        <th id=\"T_5be74_level0_row5\" class=\"row_heading level0 row5\" >5</th>\n",
       "                        <td id=\"T_5be74_row5_col0\" class=\"data row5 col0\" >4</td>\n",
       "            </tr>\n",
       "            <tr>\n",
       "                        <th id=\"T_5be74_level0_row6\" class=\"row_heading level0 row6\" >6</th>\n",
       "                        <td id=\"T_5be74_row6_col0\" class=\"data row6 col0\" >4</td>\n",
       "            </tr>\n",
       "            <tr>\n",
       "                        <th id=\"T_5be74_level0_row7\" class=\"row_heading level0 row7\" >7</th>\n",
       "                        <td id=\"T_5be74_row7_col0\" class=\"data row7 col0\" >4</td>\n",
       "            </tr>\n",
       "            <tr>\n",
       "                        <th id=\"T_5be74_level0_row8\" class=\"row_heading level0 row8\" >8</th>\n",
       "                        <td id=\"T_5be74_row8_col0\" class=\"data row8 col0\" >4</td>\n",
       "            </tr>\n",
       "    </tbody></table>"
      ],
      "text/plain": [
       "<pandas.io.formats.style.Styler at 0x2cf36bafa00>"
      ]
     },
     "metadata": {},
     "output_type": "display_data"
    },
    {
     "name": "stdout",
     "output_type": "stream",
     "text": [
      "Most common values of restecg\n"
     ]
    },
    {
     "data": {
      "text/html": [
       "<style  type=\"text/css\" >\n",
       "</style><table id=\"T_ca63d_\" ><thead>    <tr>        <th class=\"blank level0\" ></th>        <th class=\"col_heading level0 col0\" >Most common value</th>    </tr>    <tr>        <th class=\"index_name level0\" >cluster</th>        <th class=\"blank\" ></th>    </tr></thead><tbody>\n",
       "                <tr>\n",
       "                        <th id=\"T_ca63d_level0_row0\" class=\"row_heading level0 row0\" >0</th>\n",
       "                        <td id=\"T_ca63d_row0_col0\" class=\"data row0 col0\" >0</td>\n",
       "            </tr>\n",
       "            <tr>\n",
       "                        <th id=\"T_ca63d_level0_row1\" class=\"row_heading level0 row1\" >1</th>\n",
       "                        <td id=\"T_ca63d_row1_col0\" class=\"data row1 col0\" >0</td>\n",
       "            </tr>\n",
       "            <tr>\n",
       "                        <th id=\"T_ca63d_level0_row2\" class=\"row_heading level0 row2\" >2</th>\n",
       "                        <td id=\"T_ca63d_row2_col0\" class=\"data row2 col0\" >0</td>\n",
       "            </tr>\n",
       "            <tr>\n",
       "                        <th id=\"T_ca63d_level0_row3\" class=\"row_heading level0 row3\" >3</th>\n",
       "                        <td id=\"T_ca63d_row3_col0\" class=\"data row3 col0\" >2</td>\n",
       "            </tr>\n",
       "            <tr>\n",
       "                        <th id=\"T_ca63d_level0_row4\" class=\"row_heading level0 row4\" >4</th>\n",
       "                        <td id=\"T_ca63d_row4_col0\" class=\"data row4 col0\" >0</td>\n",
       "            </tr>\n",
       "            <tr>\n",
       "                        <th id=\"T_ca63d_level0_row5\" class=\"row_heading level0 row5\" >5</th>\n",
       "                        <td id=\"T_ca63d_row5_col0\" class=\"data row5 col0\" >2</td>\n",
       "            </tr>\n",
       "            <tr>\n",
       "                        <th id=\"T_ca63d_level0_row6\" class=\"row_heading level0 row6\" >6</th>\n",
       "                        <td id=\"T_ca63d_row6_col0\" class=\"data row6 col0\" >2</td>\n",
       "            </tr>\n",
       "            <tr>\n",
       "                        <th id=\"T_ca63d_level0_row7\" class=\"row_heading level0 row7\" >7</th>\n",
       "                        <td id=\"T_ca63d_row7_col0\" class=\"data row7 col0\" >2</td>\n",
       "            </tr>\n",
       "            <tr>\n",
       "                        <th id=\"T_ca63d_level0_row8\" class=\"row_heading level0 row8\" >8</th>\n",
       "                        <td id=\"T_ca63d_row8_col0\" class=\"data row8 col0\" >2</td>\n",
       "            </tr>\n",
       "    </tbody></table>"
      ],
      "text/plain": [
       "<pandas.io.formats.style.Styler at 0x2cf38efe3a0>"
      ]
     },
     "metadata": {},
     "output_type": "display_data"
    },
    {
     "name": "stdout",
     "output_type": "stream",
     "text": [
      "Most common values of slope\n"
     ]
    },
    {
     "data": {
      "text/html": [
       "<style  type=\"text/css\" >\n",
       "</style><table id=\"T_600e4_\" ><thead>    <tr>        <th class=\"blank level0\" ></th>        <th class=\"col_heading level0 col0\" >Most common value</th>    </tr>    <tr>        <th class=\"index_name level0\" >cluster</th>        <th class=\"blank\" ></th>    </tr></thead><tbody>\n",
       "                <tr>\n",
       "                        <th id=\"T_600e4_level0_row0\" class=\"row_heading level0 row0\" >0</th>\n",
       "                        <td id=\"T_600e4_row0_col0\" class=\"data row0 col0\" >1</td>\n",
       "            </tr>\n",
       "            <tr>\n",
       "                        <th id=\"T_600e4_level0_row1\" class=\"row_heading level0 row1\" >1</th>\n",
       "                        <td id=\"T_600e4_row1_col0\" class=\"data row1 col0\" >1</td>\n",
       "            </tr>\n",
       "            <tr>\n",
       "                        <th id=\"T_600e4_level0_row2\" class=\"row_heading level0 row2\" >2</th>\n",
       "                        <td id=\"T_600e4_row2_col0\" class=\"data row2 col0\" >2</td>\n",
       "            </tr>\n",
       "            <tr>\n",
       "                        <th id=\"T_600e4_level0_row3\" class=\"row_heading level0 row3\" >3</th>\n",
       "                        <td id=\"T_600e4_row3_col0\" class=\"data row3 col0\" >1</td>\n",
       "            </tr>\n",
       "            <tr>\n",
       "                        <th id=\"T_600e4_level0_row4\" class=\"row_heading level0 row4\" >4</th>\n",
       "                        <td id=\"T_600e4_row4_col0\" class=\"data row4 col0\" >1</td>\n",
       "            </tr>\n",
       "            <tr>\n",
       "                        <th id=\"T_600e4_level0_row5\" class=\"row_heading level0 row5\" >5</th>\n",
       "                        <td id=\"T_600e4_row5_col0\" class=\"data row5 col0\" >2</td>\n",
       "            </tr>\n",
       "            <tr>\n",
       "                        <th id=\"T_600e4_level0_row6\" class=\"row_heading level0 row6\" >6</th>\n",
       "                        <td id=\"T_600e4_row6_col0\" class=\"data row6 col0\" >2</td>\n",
       "            </tr>\n",
       "            <tr>\n",
       "                        <th id=\"T_600e4_level0_row7\" class=\"row_heading level0 row7\" >7</th>\n",
       "                        <td id=\"T_600e4_row7_col0\" class=\"data row7 col0\" >1</td>\n",
       "            </tr>\n",
       "            <tr>\n",
       "                        <th id=\"T_600e4_level0_row8\" class=\"row_heading level0 row8\" >8</th>\n",
       "                        <td id=\"T_600e4_row8_col0\" class=\"data row8 col0\" >2</td>\n",
       "            </tr>\n",
       "    </tbody></table>"
      ],
      "text/plain": [
       "<pandas.io.formats.style.Styler at 0x2cf36a52550>"
      ]
     },
     "metadata": {},
     "output_type": "display_data"
    }
   ],
   "source": [
    "show_most_common(train, 'gower')"
   ]
  },
  {
   "cell_type": "code",
   "execution_count": 104,
   "id": "764d962b",
   "metadata": {},
   "outputs": [],
   "source": [
    "def calc_agglomerative_silhouette(n_clusters):\n",
    "    scaler = StandardScaler()\n",
    "    model1 = AgglomerativeClustering(n_clusters=n_clusters, linkage = 'single')\n",
    "    model2 = AgglomerativeClustering(n_clusters=n_clusters, linkage = 'average')\n",
    "    model3 = AgglomerativeClustering(n_clusters=n_clusters, linkage = 'complete')\n",
    "    model4 = AgglomerativeClustering(n_clusters=n_clusters, linkage = 'ward')\n",
    "    pipeline1 = Pipeline([('transform', scaler), ('fit', model1)])\n",
    "    pipeline2 = Pipeline([('transform', scaler), ('fit', model2)])\n",
    "    pipeline3 = Pipeline([('transform', scaler), ('fit', model3)])\n",
    "    pipeline4 = Pipeline([('transform', scaler), ('fit', model4)])\n",
    "    y1 = pipeline1.fit_predict(train)\n",
    "    y2 = pipeline2.fit_predict(train)\n",
    "    y3 = pipeline3.fit_predict(train)\n",
    "    y4 = pipeline4.fit_predict(train)\n",
    "    return np.array([silhouette_score(train, y1),\n",
    "silhouette_score(train, y2),\n",
    "silhouette_score(train, y3),\n",
    "silhouette_score(train, y4)])"
   ]
  },
  {
   "cell_type": "code",
   "execution_count": 107,
   "id": "243cba01",
   "metadata": {},
   "outputs": [],
   "source": [
    "def get_agglomerative_silhouettes():\n",
    "    silhouettes = np.empty((13,4))\n",
    "    for i in n_clusters_range:\n",
    "        silhouettes[i-2] = calc_agglomerative_silhouette(i)\n",
    "    return silhouettes"
   ]
  },
  {
   "cell_type": "code",
   "execution_count": 108,
   "id": "b239a40a",
   "metadata": {},
   "outputs": [
    {
     "data": {
      "image/png": "[encoded data removed]",
      "text/plain": [
       "<Figure size 432x288 with 1 Axes>"
      ]
     },
     "metadata": {
      "needs_background": "light"
     },
     "output_type": "display_data"
    }
   ],
   "source": [
    "silhouettes = get_agglomerative_silhouettes()\n",
    "show_silhouettes(silhouettes)"
   ]
  },
  {
   "cell_type": "code",
   "execution_count": 109,
   "id": "c7d7019e",
   "metadata": {},
   "outputs": [],
   "source": [
    "clusters_count_agglomerative = 5\n",
    "def get_best_agglomerative_labels(dataset):\n",
    "    \n",
    "    model = AgglomerativeClustering(n_clusters=clusters_count_agglomerative, linkage = 'ward')\n",
    "    pipeline = Pipeline([\n",
    "    ('transform', scaler),\n",
    "    ('fit', model) \n",
    "    ])\n",
    "    pipeline.fit(dataset)\n",
    "    pred = model.labels_\n",
    "    return pred"
   ]
  },
  {
   "cell_type": "code",
   "execution_count": 110,
   "id": "8b7aca36",
   "metadata": {},
   "outputs": [
    {
     "name": "stderr",
     "output_type": "stream",
     "text": [
      "C:\\ProgramData\\Anaconda3\\lib\\site-packages\\matplotlib\\collections.py:922: RuntimeWarning: invalid value encountered in sqrt\n",
      "  scale = np.sqrt(self._sizes) * dpi / 72.0 * self._factor\n"
     ]
    },
    {
     "data": {
      "image/png": "[encoded data removed]",
      "text/plain": [
       "<Figure size 432x288 with 1 Axes>"
      ]
     },
     "metadata": {
      "needs_background": "light"
     },
     "output_type": "display_data"
    }
   ],
   "source": [
    "show_3d_clustering(train, 'agglomerative')"
   ]
  },
  {
   "cell_type": "code",
   "execution_count": 111,
   "id": "5901164b",
   "metadata": {},
   "outputs": [
    {
     "data": {
      "image/png": "[encoded data removed]",
      "text/plain": [
       "<Figure size 432x288 with 1 Axes>"
      ]
     },
     "metadata": {
      "needs_background": "light"
     },
     "output_type": "display_data"
    },
    {
     "data": {
      "image/png": "[encoded data removed]",
      "text/plain": [
       "<Figure size 432x288 with 1 Axes>"
      ]
     },
     "metadata": {
      "needs_background": "light"
     },
     "output_type": "display_data"
    },
    {
     "data": {
      "image/png": "[encoded data removed]",
      "text/plain": [
       "<Figure size 432x288 with 1 Axes>"
      ]
     },
     "metadata": {
      "needs_background": "light"
     },
     "output_type": "display_data"
    },
    {
     "data": {
      "image/png": "[encoded data removed]",
      "text/plain": [
       "<Figure size 432x288 with 1 Axes>"
      ]
     },
     "metadata": {
      "needs_background": "light"
     },
     "output_type": "display_data"
    },
    {
     "data": {
      "image/png": "[encoded data removed]",
      "text/plain": [
       "<Figure size 432x288 with 1 Axes>"
      ]
     },
     "metadata": {
      "needs_background": "light"
     },
     "output_type": "display_data"
    },
    {
     "data": {
      "image/png": "[encoded data removed]",
      "text/plain": [
       "<Figure size 432x288 with 1 Axes>"
      ]
     },
     "metadata": {
      "needs_background": "light"
     },
     "output_type": "display_data"
    },
    {
     "data": {
      "image/png": "[encoded data removed]",
      "text/plain": [
       "<Figure size 432x288 with 1 Axes>"
      ]
     },
     "metadata": {
      "needs_background": "light"
     },
     "output_type": "display_data"
    }
   ],
   "source": [
    "show_stats_by_cluster(train, 'agglomerative')"
   ]
  },
  {
   "cell_type": "code",
   "execution_count": 112,
   "id": "fa9a390b",
   "metadata": {},
   "outputs": [
    {
     "name": "stdout",
     "output_type": "stream",
     "text": [
      "Most common values of cp\n"
     ]
    },
    {
     "data": {
      "text/html": [
       "<style  type=\"text/css\" >\n",
       "</style><table id=\"T_1799e_\" ><thead>    <tr>        <th class=\"blank level0\" ></th>        <th class=\"col_heading level0 col0\" >Most common value</th>    </tr>    <tr>        <th class=\"index_name level0\" >cluster</th>        <th class=\"blank\" ></th>    </tr></thead><tbody>\n",
       "                <tr>\n",
       "                        <th id=\"T_1799e_level0_row0\" class=\"row_heading level0 row0\" >0</th>\n",
       "                        <td id=\"T_1799e_row0_col0\" class=\"data row0 col0\" >4</td>\n",
       "            </tr>\n",
       "            <tr>\n",
       "                        <th id=\"T_1799e_level0_row1\" class=\"row_heading level0 row1\" >1</th>\n",
       "                        <td id=\"T_1799e_row1_col0\" class=\"data row1 col0\" >2</td>\n",
       "            </tr>\n",
       "            <tr>\n",
       "                        <th id=\"T_1799e_level0_row2\" class=\"row_heading level0 row2\" >2</th>\n",
       "                        <td id=\"T_1799e_row2_col0\" class=\"data row2 col0\" >3</td>\n",
       "            </tr>\n",
       "            <tr>\n",
       "                        <th id=\"T_1799e_level0_row3\" class=\"row_heading level0 row3\" >3</th>\n",
       "                        <td id=\"T_1799e_row3_col0\" class=\"data row3 col0\" >3</td>\n",
       "            </tr>\n",
       "            <tr>\n",
       "                        <th id=\"T_1799e_level0_row4\" class=\"row_heading level0 row4\" >4</th>\n",
       "                        <td id=\"T_1799e_row4_col0\" class=\"data row4 col0\" >4</td>\n",
       "            </tr>\n",
       "    </tbody></table>"
      ],
      "text/plain": [
       "<pandas.io.formats.style.Styler at 0x2cf391ebdc0>"
      ]
     },
     "metadata": {},
     "output_type": "display_data"
    },
    {
     "name": "stdout",
     "output_type": "stream",
     "text": [
      "Most common values of restecg\n"
     ]
    },
    {
     "data": {
      "text/html": [
       "<style  type=\"text/css\" >\n",
       "</style><table id=\"T_2b4c3_\" ><thead>    <tr>        <th class=\"blank level0\" ></th>        <th class=\"col_heading level0 col0\" >Most common value</th>    </tr>    <tr>        <th class=\"index_name level0\" >cluster</th>        <th class=\"blank\" ></th>    </tr></thead><tbody>\n",
       "                <tr>\n",
       "                        <th id=\"T_2b4c3_level0_row0\" class=\"row_heading level0 row0\" >0</th>\n",
       "                        <td id=\"T_2b4c3_row0_col0\" class=\"data row0 col0\" >2</td>\n",
       "            </tr>\n",
       "            <tr>\n",
       "                        <th id=\"T_2b4c3_level0_row1\" class=\"row_heading level0 row1\" >1</th>\n",
       "                        <td id=\"T_2b4c3_row1_col0\" class=\"data row1 col0\" >2</td>\n",
       "            </tr>\n",
       "            <tr>\n",
       "                        <th id=\"T_2b4c3_level0_row2\" class=\"row_heading level0 row2\" >2</th>\n",
       "                        <td id=\"T_2b4c3_row2_col0\" class=\"data row2 col0\" >2</td>\n",
       "            </tr>\n",
       "            <tr>\n",
       "                        <th id=\"T_2b4c3_level0_row3\" class=\"row_heading level0 row3\" >3</th>\n",
       "                        <td id=\"T_2b4c3_row3_col0\" class=\"data row3 col0\" >0</td>\n",
       "            </tr>\n",
       "            <tr>\n",
       "                        <th id=\"T_2b4c3_level0_row4\" class=\"row_heading level0 row4\" >4</th>\n",
       "                        <td id=\"T_2b4c3_row4_col0\" class=\"data row4 col0\" >2</td>\n",
       "            </tr>\n",
       "    </tbody></table>"
      ],
      "text/plain": [
       "<pandas.io.formats.style.Styler at 0x2cf391ebdf0>"
      ]
     },
     "metadata": {},
     "output_type": "display_data"
    },
    {
     "name": "stdout",
     "output_type": "stream",
     "text": [
      "Most common values of slope\n"
     ]
    },
    {
     "data": {
      "text/html": [
       "<style  type=\"text/css\" >\n",
       "</style><table id=\"T_bdb7c_\" ><thead>    <tr>        <th class=\"blank level0\" ></th>        <th class=\"col_heading level0 col0\" >Most common value</th>    </tr>    <tr>        <th class=\"index_name level0\" >cluster</th>        <th class=\"blank\" ></th>    </tr></thead><tbody>\n",
       "                <tr>\n",
       "                        <th id=\"T_bdb7c_level0_row0\" class=\"row_heading level0 row0\" >0</th>\n",
       "                        <td id=\"T_bdb7c_row0_col0\" class=\"data row0 col0\" >2</td>\n",
       "            </tr>\n",
       "            <tr>\n",
       "                        <th id=\"T_bdb7c_level0_row1\" class=\"row_heading level0 row1\" >1</th>\n",
       "                        <td id=\"T_bdb7c_row1_col0\" class=\"data row1 col0\" >1</td>\n",
       "            </tr>\n",
       "            <tr>\n",
       "                        <th id=\"T_bdb7c_level0_row2\" class=\"row_heading level0 row2\" >2</th>\n",
       "                        <td id=\"T_bdb7c_row2_col0\" class=\"data row2 col0\" >1</td>\n",
       "            </tr>\n",
       "            <tr>\n",
       "                        <th id=\"T_bdb7c_level0_row3\" class=\"row_heading level0 row3\" >3</th>\n",
       "                        <td id=\"T_bdb7c_row3_col0\" class=\"data row3 col0\" >1</td>\n",
       "            </tr>\n",
       "            <tr>\n",
       "                        <th id=\"T_bdb7c_level0_row4\" class=\"row_heading level0 row4\" >4</th>\n",
       "                        <td id=\"T_bdb7c_row4_col0\" class=\"data row4 col0\" >2</td>\n",
       "            </tr>\n",
       "    </tbody></table>"
      ],
      "text/plain": [
       "<pandas.io.formats.style.Styler at 0x2cf391e6970>"
      ]
     },
     "metadata": {},
     "output_type": "display_data"
    }
   ],
   "source": [
    "show_most_common(train, 'agglomerative')"
   ]
  },
  {
   "cell_type": "code",
   "execution_count": 113,
   "id": "9719170f",
   "metadata": {},
   "outputs": [],
   "source": [
    "def calc_kmed_inertia(n_clusters):\n",
    "    model = KMedoids(n_clusters=n_clusters,\n",
    "                           method='pam', init='build', \n",
    "                           max_iter=300)\n",
    "    pipeline = Pipeline([\n",
    "    ('transform', scaler),\n",
    "    ('fit', model) \n",
    "    ])\n",
    "    pipeline.fit(train)\n",
    "    model.predict(train)\n",
    "    return model.inertia_"
   ]
  },
  {
   "cell_type": "code",
   "execution_count": 114,
   "id": "8ac2bde4",
   "metadata": {},
   "outputs": [],
   "source": [
    "def get_kmed_inertias():\n",
    "    inertias = []\n",
    "    for i in n_clusters_range:\n",
    "        inertias.append(calc_kmed_inertia(i))\n",
    "    return inertias"
   ]
  },
  {
   "cell_type": "code",
   "execution_count": 115,
   "id": "cf9e4745",
   "metadata": {},
   "outputs": [
    {
     "data": {
      "image/png": "[encoded data removed]",
      "text/plain": [
       "<Figure size 432x288 with 1 Axes>"
      ]
     },
     "metadata": {
      "needs_background": "light"
     },
     "output_type": "display_data"
    }
   ],
   "source": [
    "inertias = get_kmed_inertias()\n",
    "show_inertias(inertias)"
   ]
  },
  {
   "cell_type": "code",
   "execution_count": 116,
   "id": "749c657b",
   "metadata": {},
   "outputs": [],
   "source": [
    "def calc_kmed_silhouette(n_clusters):\n",
    "    model = KMedoids(n_clusters=n_clusters,\n",
    "                           method='pam', init='build', \n",
    "                           max_iter=300)\n",
    "    pipeline = Pipeline([('transform', scaler), ('fit', model)])\n",
    "    pipeline.fit(train)\n",
    "    y = model.predict(train)\n",
    "    return silhouette_score(train, model.labels_) # labels not predictions because its terrible at predictions"
   ]
  },
  {
   "cell_type": "code",
   "execution_count": 117,
   "id": "dfcbdd9b",
   "metadata": {},
   "outputs": [],
   "source": [
    "def get_kmed_silhouettes():\n",
    "    silhouettes = np.empty((13,1))\n",
    "    for i in n_clusters_range:\n",
    "        silhouettes[i-2] = calc_kmed_silhouette(i)\n",
    "    return silhouettes"
   ]
  },
  {
   "cell_type": "code",
   "execution_count": 118,
   "id": "306b6f74",
   "metadata": {},
   "outputs": [
    {
     "data": {
      "image/png": "[encoded data removed]",
      "text/plain": [
       "<Figure size 432x288 with 1 Axes>"
      ]
     },
     "metadata": {
      "needs_background": "light"
     },
     "output_type": "display_data"
    }
   ],
   "source": [
    "silhouettes = get_kmed_silhouettes()\n",
    "show_silhouettes(silhouettes)"
   ]
  },
  {
   "cell_type": "code",
   "execution_count": 119,
   "id": "6a7effa5",
   "metadata": {},
   "outputs": [],
   "source": [
    "cluster_count_kmed = 3"
   ]
  },
  {
   "cell_type": "code",
   "execution_count": 120,
   "id": "5e32ef11",
   "metadata": {},
   "outputs": [],
   "source": [
    "def get_best_kmeds_labels(dataset):\n",
    "    model = KMedoids(n_clusters=cluster_count_kmed,\n",
    "                           method='pam', init='build', \n",
    "                           max_iter=300)\n",
    "    pipeline = Pipeline([\n",
    "    ('transform', scaler),\n",
    "    ('fit', model) \n",
    "    ])\n",
    "    pipeline.fit(dataset)\n",
    "    pred = model.labels_\n",
    "    return pred"
   ]
  },
  {
   "cell_type": "code",
   "execution_count": 121,
   "id": "269acba4",
   "metadata": {},
   "outputs": [
    {
     "name": "stderr",
     "output_type": "stream",
     "text": [
      "C:\\ProgramData\\Anaconda3\\lib\\site-packages\\matplotlib\\collections.py:922: RuntimeWarning: invalid value encountered in sqrt\n",
      "  scale = np.sqrt(self._sizes) * dpi / 72.0 * self._factor\n"
     ]
    },
    {
     "data": {
      "image/png": "[encoded data removed]",
      "text/plain": [
       "<Figure size 432x288 with 1 Axes>"
      ]
     },
     "metadata": {
      "needs_background": "light"
     },
     "output_type": "display_data"
    }
   ],
   "source": [
    "show_3d_clustering(train, 'kmeds')"
   ]
  },
  {
   "cell_type": "code",
   "execution_count": 122,
   "id": "268ba174",
   "metadata": {},
   "outputs": [
    {
     "data": {
      "image/png": "[encoded data removed]",
      "text/plain": [
       "<Figure size 432x288 with 1 Axes>"
      ]
     },
     "metadata": {
      "needs_background": "light"
     },
     "output_type": "display_data"
    },
    {
     "data": {
      "image/png": "[encoded data removed]",
      "text/plain": [
       "<Figure size 432x288 with 1 Axes>"
      ]
     },
     "metadata": {
      "needs_background": "light"
     },
     "output_type": "display_data"
    },
    {
     "data": {
      "image/png": "[encoded data removed]",
      "text/plain": [
       "<Figure size 432x288 with 1 Axes>"
      ]
     },
     "metadata": {
      "needs_background": "light"
     },
     "output_type": "display_data"
    },
    {
     "data": {
      "image/png": "[encoded data removed]",
      "text/plain": [
       "<Figure size 432x288 with 1 Axes>"
      ]
     },
     "metadata": {
      "needs_background": "light"
     },
     "output_type": "display_data"
    },
    {
     "data": {
      "image/png": "[encoded data removed]",
      "text/plain": [
       "<Figure size 432x288 with 1 Axes>"
      ]
     },
     "metadata": {
      "needs_background": "light"
     },
     "output_type": "display_data"
    },
    {
     "data": {
      "image/png": "[encoded data removed]",
      "text/plain": [
       "<Figure size 432x288 with 1 Axes>"
      ]
     },
     "metadata": {
      "needs_background": "light"
     },
     "output_type": "display_data"
    },
    {
     "data": {
      "image/png": "[encoded data removed]",
      "text/plain": [
       "<Figure size 432x288 with 1 Axes>"
      ]
     },
     "metadata": {
      "needs_background": "light"
     },
     "output_type": "display_data"
    }
   ],
   "source": [
    "show_stats_by_cluster(train, \"kmeds\")"
   ]
  },
  {
   "cell_type": "code",
   "execution_count": 123,
   "id": "40d3045b",
   "metadata": {},
   "outputs": [
    {
     "name": "stdout",
     "output_type": "stream",
     "text": [
      "Most common values of cp\n"
     ]
    },
    {
     "data": {
      "text/html": [
       "<style  type=\"text/css\" >\n",
       "</style><table id=\"T_c2fc4_\" ><thead>    <tr>        <th class=\"blank level0\" ></th>        <th class=\"col_heading level0 col0\" >Most common value</th>    </tr>    <tr>        <th class=\"index_name level0\" >cluster</th>        <th class=\"blank\" ></th>    </tr></thead><tbody>\n",
       "                <tr>\n",
       "                        <th id=\"T_c2fc4_level0_row0\" class=\"row_heading level0 row0\" >0</th>\n",
       "                        <td id=\"T_c2fc4_row0_col0\" class=\"data row0 col0\" >4</td>\n",
       "            </tr>\n",
       "            <tr>\n",
       "                        <th id=\"T_c2fc4_level0_row1\" class=\"row_heading level0 row1\" >1</th>\n",
       "                        <td id=\"T_c2fc4_row1_col0\" class=\"data row1 col0\" >4</td>\n",
       "            </tr>\n",
       "            <tr>\n",
       "                        <th id=\"T_c2fc4_level0_row2\" class=\"row_heading level0 row2\" >2</th>\n",
       "                        <td id=\"T_c2fc4_row2_col0\" class=\"data row2 col0\" >3</td>\n",
       "            </tr>\n",
       "    </tbody></table>"
      ],
      "text/plain": [
       "<pandas.io.formats.style.Styler at 0x2cf369047c0>"
      ]
     },
     "metadata": {},
     "output_type": "display_data"
    },
    {
     "name": "stdout",
     "output_type": "stream",
     "text": [
      "Most common values of restecg\n"
     ]
    },
    {
     "data": {
      "text/html": [
       "<style  type=\"text/css\" >\n",
       "</style><table id=\"T_1b7c0_\" ><thead>    <tr>        <th class=\"blank level0\" ></th>        <th class=\"col_heading level0 col0\" >Most common value</th>    </tr>    <tr>        <th class=\"index_name level0\" >cluster</th>        <th class=\"blank\" ></th>    </tr></thead><tbody>\n",
       "                <tr>\n",
       "                        <th id=\"T_1b7c0_level0_row0\" class=\"row_heading level0 row0\" >0</th>\n",
       "                        <td id=\"T_1b7c0_row0_col0\" class=\"data row0 col0\" >2</td>\n",
       "            </tr>\n",
       "            <tr>\n",
       "                        <th id=\"T_1b7c0_level0_row1\" class=\"row_heading level0 row1\" >1</th>\n",
       "                        <td id=\"T_1b7c0_row1_col0\" class=\"data row1 col0\" >2</td>\n",
       "            </tr>\n",
       "            <tr>\n",
       "                        <th id=\"T_1b7c0_level0_row2\" class=\"row_heading level0 row2\" >2</th>\n",
       "                        <td id=\"T_1b7c0_row2_col0\" class=\"data row2 col0\" >0</td>\n",
       "            </tr>\n",
       "    </tbody></table>"
      ],
      "text/plain": [
       "<pandas.io.formats.style.Styler at 0x2cf36904f40>"
      ]
     },
     "metadata": {},
     "output_type": "display_data"
    },
    {
     "name": "stdout",
     "output_type": "stream",
     "text": [
      "Most common values of slope\n"
     ]
    },
    {
     "data": {
      "text/html": [
       "<style  type=\"text/css\" >\n",
       "</style><table id=\"T_f5521_\" ><thead>    <tr>        <th class=\"blank level0\" ></th>        <th class=\"col_heading level0 col0\" >Most common value</th>    </tr>    <tr>        <th class=\"index_name level0\" >cluster</th>        <th class=\"blank\" ></th>    </tr></thead><tbody>\n",
       "                <tr>\n",
       "                        <th id=\"T_f5521_level0_row0\" class=\"row_heading level0 row0\" >0</th>\n",
       "                        <td id=\"T_f5521_row0_col0\" class=\"data row0 col0\" >1</td>\n",
       "            </tr>\n",
       "            <tr>\n",
       "                        <th id=\"T_f5521_level0_row1\" class=\"row_heading level0 row1\" >1</th>\n",
       "                        <td id=\"T_f5521_row1_col0\" class=\"data row1 col0\" >2</td>\n",
       "            </tr>\n",
       "            <tr>\n",
       "                        <th id=\"T_f5521_level0_row2\" class=\"row_heading level0 row2\" >2</th>\n",
       "                        <td id=\"T_f5521_row2_col0\" class=\"data row2 col0\" >1</td>\n",
       "            </tr>\n",
       "    </tbody></table>"
      ],
      "text/plain": [
       "<pandas.io.formats.style.Styler at 0x2cf36b28f40>"
      ]
     },
     "metadata": {},
     "output_type": "display_data"
    }
   ],
   "source": [
    "show_most_common(train, \"kmeds\")"
   ]
  }
 ],
 "metadata": {
  "kernelspec": {
   "display_name": "ml2-venv",
   "language": "python",
   "name": "ml2-venv"
  },
  "language_info": {
   "codemirror_mode": {
    "name": "ipython",
    "version": 3
   },
   "file_extension": ".py",
   "mimetype": "text/x-python",
   "name": "python",
   "nbconvert_exporter": "python",
   "pygments_lexer": "ipython3",
   "version": "3.8.8"
  }
 },
 "nbformat": 4,
 "nbformat_minor": 5
}
